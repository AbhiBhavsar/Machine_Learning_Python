{
 "cells": [
  {
   "cell_type": "code",
   "execution_count": 1,
   "id": "0e11b04e-22c4-45d4-9cbf-3f39439c754b",
   "metadata": {},
   "outputs": [],
   "source": [
    "import pandas as pd\n",
    "import numpy as np"
   ]
  },
  {
   "cell_type": "code",
   "execution_count": 2,
   "id": "124ba2c4-9001-4085-b598-0bc4236b3acc",
   "metadata": {},
   "outputs": [],
   "source": [
    "a1=np.array([\n",
    "    [[1,2,3],\n",
    "     [4,5,6],\n",
    "     [7,8,9]],\n",
    "    [[10,11,12],\n",
    "     [13,14,15],\n",
    "     [16,17,18]]\n",
    "   ])"
   ]
  },
  {
   "cell_type": "markdown",
   "id": "53a7a556-1cb0-418e-bcf5-cf8802b5b7b3",
   "metadata": {},
   "source": [
    "## Attribute and type of numpy"
   ]
  },
  {
   "cell_type": "code",
   "execution_count": 5,
   "id": "48464988-72af-4008-b4d1-0104d1c0bef1",
   "metadata": {},
   "outputs": [
    {
     "data": {
      "text/plain": [
       "(2, 3, 3)"
      ]
     },
     "execution_count": 5,
     "metadata": {},
     "output_type": "execute_result"
    }
   ],
   "source": [
    "a1.shape"
   ]
  },
  {
   "cell_type": "code",
   "execution_count": 6,
   "id": "e8462acd-95f0-472d-b6ab-9e639ebbc502",
   "metadata": {},
   "outputs": [
    {
     "data": {
      "text/plain": [
       "18"
      ]
     },
     "execution_count": 6,
     "metadata": {},
     "output_type": "execute_result"
    }
   ],
   "source": [
    "a1.size"
   ]
  },
  {
   "cell_type": "code",
   "execution_count": 7,
   "id": "0a0a20ca-2b83-4acf-a1fa-d29586f91939",
   "metadata": {},
   "outputs": [
    {
     "data": {
      "text/plain": [
       "dtype('int32')"
      ]
     },
     "execution_count": 7,
     "metadata": {},
     "output_type": "execute_result"
    }
   ],
   "source": [
    "a1.dtype"
   ]
  },
  {
   "cell_type": "code",
   "execution_count": 8,
   "id": "e9f2b0cb-a76d-48a2-afe5-28aa0c960280",
   "metadata": {},
   "outputs": [
    {
     "data": {
      "text/plain": [
       "numpy.ndarray"
      ]
     },
     "execution_count": 8,
     "metadata": {},
     "output_type": "execute_result"
    }
   ],
   "source": [
    "type(a1)"
   ]
  },
  {
   "cell_type": "code",
   "execution_count": 9,
   "id": "95bff033-26b2-465f-afc5-d02a0b135f1f",
   "metadata": {},
   "outputs": [
    {
     "data": {
      "text/plain": [
       "3"
      ]
     },
     "execution_count": 9,
     "metadata": {},
     "output_type": "execute_result"
    }
   ],
   "source": [
    "a1.ndim"
   ]
  },
  {
   "cell_type": "markdown",
   "id": "ff05d1ad-f06d-4eb9-8590-ba920bd0b094",
   "metadata": {},
   "source": [
    "## Creating Nd-rays"
   ]
  },
  {
   "cell_type": "code",
   "execution_count": 11,
   "id": "0ff2e362-de05-4586-8900-c1e6a331c7ee",
   "metadata": {},
   "outputs": [
    {
     "data": {
      "text/plain": [
       "array([[1., 1.],\n",
       "       [1., 1.],\n",
       "       [1., 1.]])"
      ]
     },
     "execution_count": 11,
     "metadata": {},
     "output_type": "execute_result"
    }
   ],
   "source": [
    "ones_arr=np.ones((3,2))\n",
    "ones_arr"
   ]
  },
  {
   "cell_type": "code",
   "execution_count": 15,
   "id": "29ae5428-56ab-454c-9ed1-13034c94adb9",
   "metadata": {},
   "outputs": [
    {
     "data": {
      "text/plain": [
       "array([[0, 0],\n",
       "       [0, 0]])"
      ]
     },
     "execution_count": 15,
     "metadata": {},
     "output_type": "execute_result"
    }
   ],
   "source": [
    "zeros_arr=np.zeros((2,2),dtype=int)\n",
    "zeros_arr"
   ]
  },
  {
   "cell_type": "code",
   "execution_count": 18,
   "id": "976c0105-4750-4bc0-b5cc-ad003c1d404a",
   "metadata": {},
   "outputs": [
    {
     "data": {
      "text/plain": [
       "array([0, 1, 2, 3, 4])"
      ]
     },
     "execution_count": 18,
     "metadata": {},
     "output_type": "execute_result"
    }
   ],
   "source": [
    "range_arr=np.arange(0,5,1)\n",
    "range_arr"
   ]
  },
  {
   "cell_type": "code",
   "execution_count": 31,
   "id": "90916919-fcb0-4efb-bbd0-0e2ef5b2185e",
   "metadata": {},
   "outputs": [
    {
     "data": {
      "text/plain": [
       "array([[0, 4, 0, 4],\n",
       "       [3, 3, 0, 0],\n",
       "       [2, 4, 0, 2]])"
      ]
     },
     "execution_count": 31,
     "metadata": {},
     "output_type": "execute_result"
    }
   ],
   "source": [
    "rand_int_arr=np.random.randint(0,5,size=(3,4))\n",
    "rand_int_arr"
   ]
  },
  {
   "cell_type": "code",
   "execution_count": 32,
   "id": "781d19c5-18bf-4646-bc4e-0abec59fbf30",
   "metadata": {},
   "outputs": [
    {
     "data": {
      "text/plain": [
       "array([[0.31818797, 0.86146918, 0.3336597 ],\n",
       "       [0.41520666, 0.42760915, 0.99808623],\n",
       "       [0.7037764 , 0.01118787, 0.54254899]])"
      ]
     },
     "execution_count": 32,
     "metadata": {},
     "output_type": "execute_result"
    }
   ],
   "source": [
    "random_arr=np.random.random((3,3))\n",
    "random_arr"
   ]
  },
  {
   "cell_type": "code",
   "execution_count": 33,
   "id": "eba97822-3e37-44fa-a5e7-1c1e462acbb7",
   "metadata": {},
   "outputs": [
    {
     "data": {
      "text/plain": [
       "array([[1, 9, 6],\n",
       "       [5, 4, 3],\n",
       "       [5, 2, 9]])"
      ]
     },
     "execution_count": 33,
     "metadata": {},
     "output_type": "execute_result"
    }
   ],
   "source": [
    "np.random.seed(34)\n",
    "rand_seed_arr=np.random.randint(0,10,size=(3,3))\n",
    "rand_seed_arr"
   ]
  },
  {
   "cell_type": "markdown",
   "id": "6a6bb981-c145-47bd-a765-240c5eb16cb6",
   "metadata": {},
   "source": [
    "## Viewing Matrixes"
   ]
  },
  {
   "cell_type": "code",
   "execution_count": 36,
   "id": "d5043148-f97a-45fc-ad33-9990f535d992",
   "metadata": {},
   "outputs": [
    {
     "data": {
      "text/plain": [
       "array([0, 2, 3, 4])"
      ]
     },
     "execution_count": 36,
     "metadata": {},
     "output_type": "execute_result"
    }
   ],
   "source": [
    "np.unique(rand_int_arr)"
   ]
  },
  {
   "cell_type": "code",
   "execution_count": 37,
   "id": "574e810e-c5d2-4ef0-90f1-21c9679af1d3",
   "metadata": {},
   "outputs": [
    {
     "data": {
      "text/plain": [
       "array([[[ 1,  2,  3],\n",
       "        [ 4,  5,  6],\n",
       "        [ 7,  8,  9]],\n",
       "\n",
       "       [[10, 11, 12],\n",
       "        [13, 14, 15],\n",
       "        [16, 17, 18]]])"
      ]
     },
     "execution_count": 37,
     "metadata": {},
     "output_type": "execute_result"
    }
   ],
   "source": [
    "a1"
   ]
  },
  {
   "cell_type": "code",
   "execution_count": 38,
   "id": "3335960b-37a0-4679-aa9d-016e29ccd087",
   "metadata": {},
   "outputs": [
    {
     "data": {
      "text/plain": [
       "array([[10, 11, 12],\n",
       "       [13, 14, 15],\n",
       "       [16, 17, 18]])"
      ]
     },
     "execution_count": 38,
     "metadata": {},
     "output_type": "execute_result"
    }
   ],
   "source": [
    "a1[1]"
   ]
  },
  {
   "cell_type": "code",
   "execution_count": 89,
   "id": "138b057a-7f9d-44ea-8839-9d02d702dcbb",
   "metadata": {},
   "outputs": [
    {
     "data": {
      "text/plain": [
       "array([[[ 1,  2,  3]],\n",
       "\n",
       "       [[10, 11, 12]]])"
      ]
     },
     "execution_count": 89,
     "metadata": {},
     "output_type": "execute_result"
    }
   ],
   "source": [
    "a1[:3,:1,:3]"
   ]
  },
  {
   "cell_type": "markdown",
   "id": "ed2c7932-2bf7-45cf-bcf3-e63e93b6fe3c",
   "metadata": {},
   "source": [
    "## Aggregation of numpy arrays\n",
    "Running the same function on each array element"
   ]
  },
  {
   "cell_type": "code",
   "execution_count": 3,
   "id": "9003f6d5-114e-483c-b535-76463cd310c9",
   "metadata": {},
   "outputs": [
    {
     "data": {
      "text/plain": [
       "array([[[ 1,  2,  3],\n",
       "        [ 4,  5,  6],\n",
       "        [ 7,  8,  9]],\n",
       "\n",
       "       [[10, 11, 12],\n",
       "        [13, 14, 15],\n",
       "        [16, 17, 18]]])"
      ]
     },
     "execution_count": 3,
     "metadata": {},
     "output_type": "execute_result"
    }
   ],
   "source": [
    "a1"
   ]
  },
  {
   "cell_type": "code",
   "execution_count": 5,
   "id": "780cd281-4d7e-4d9b-ad87-58bffbffa2d5",
   "metadata": {},
   "outputs": [
    {
     "data": {
      "text/plain": [
       "array([0.8542808 , 0.75010679, 0.16287733, 0.55207382, 0.30213526,\n",
       "       0.07192869, 0.80384886, 0.60884366, 0.4796203 , 0.98953563])"
      ]
     },
     "execution_count": 5,
     "metadata": {},
     "output_type": "execute_result"
    }
   ],
   "source": [
    "massive_array=np.random.random(100000)\n",
    "massive_array[:10]"
   ]
  },
  {
   "cell_type": "code",
   "execution_count": 8,
   "id": "404906ea-ad07-49e6-bada-789e0946c41e",
   "metadata": {},
   "outputs": [
    {
     "name": "stdout",
     "output_type": "stream",
     "text": [
      "11.1 ms ± 104 µs per loop (mean ± std. dev. of 7 runs, 100 loops each)\n",
      "55.4 µs ± 787 ns per loop (mean ± std. dev. of 7 runs, 10,000 loops each)\n"
     ]
    }
   ],
   "source": [
    "%timeit sum(massive_array) #python's sum method\n",
    "%timeit np.sum(massive_array) #numpy sum"
   ]
  },
  {
   "cell_type": "code",
   "execution_count": 9,
   "id": "2ab6c7bd-9f51-4b6d-824c-a45e4721b6b2",
   "metadata": {},
   "outputs": [
    {
     "data": {
      "text/plain": [
       "171"
      ]
     },
     "execution_count": 9,
     "metadata": {},
     "output_type": "execute_result"
    }
   ],
   "source": [
    "np.sum(a1)"
   ]
  },
  {
   "cell_type": "code",
   "execution_count": 10,
   "id": "798bd828-2def-481c-a06b-5bfbab415880",
   "metadata": {},
   "outputs": [
    {
     "data": {
      "text/plain": [
       "9.5"
      ]
     },
     "execution_count": 10,
     "metadata": {},
     "output_type": "execute_result"
    }
   ],
   "source": [
    "np.mean(a1)"
   ]
  },
  {
   "cell_type": "code",
   "execution_count": 13,
   "id": "e7fec199-a0f7-45d3-8ebe-df35da05b1ff",
   "metadata": {},
   "outputs": [
    {
     "data": {
      "text/plain": [
       "1"
      ]
     },
     "execution_count": 13,
     "metadata": {},
     "output_type": "execute_result"
    }
   ],
   "source": [
    "np.min(a1)"
   ]
  },
  {
   "cell_type": "code",
   "execution_count": 14,
   "id": "6a0cbeb6-e28b-47cb-98e7-d09299d888f7",
   "metadata": {},
   "outputs": [
    {
     "data": {
      "text/plain": [
       "18"
      ]
     },
     "execution_count": 14,
     "metadata": {},
     "output_type": "execute_result"
    }
   ],
   "source": [
    "np.max(a1)"
   ]
  },
  {
   "cell_type": "code",
   "execution_count": 15,
   "id": "496a17eb-e44c-4127-952a-307e062b1160",
   "metadata": {},
   "outputs": [
    {
     "data": {
      "text/plain": [
       "5.188127472091127"
      ]
     },
     "execution_count": 15,
     "metadata": {},
     "output_type": "execute_result"
    }
   ],
   "source": [
    "np.std(a1)"
   ]
  },
  {
   "cell_type": "code",
   "execution_count": 16,
   "id": "59d2c179-0d3a-420d-9f79-6d6c679522ab",
   "metadata": {},
   "outputs": [
    {
     "data": {
      "text/plain": [
       "26.916666666666668"
      ]
     },
     "execution_count": 16,
     "metadata": {},
     "output_type": "execute_result"
    }
   ],
   "source": [
    "np.var(a1)"
   ]
  },
  {
   "cell_type": "code",
   "execution_count": 17,
   "id": "f5127368-4d2e-4268-b7d6-c52bc402dd26",
   "metadata": {},
   "outputs": [],
   "source": [
    "high_var_ar=np.array([1,100,200,300,1000,5000])\n",
    "low_var_ar=np.array([2,4,6,8,10,12])"
   ]
  },
  {
   "cell_type": "code",
   "execution_count": 18,
   "id": "6df52b77-1a93-4530-9314-86a0c2526675",
   "metadata": {},
   "outputs": [
    {
     "data": {
      "text/plain": [
       "3146300.1388888885"
      ]
     },
     "execution_count": 18,
     "metadata": {},
     "output_type": "execute_result"
    }
   ],
   "source": [
    "np.var(high_var_ar)"
   ]
  },
  {
   "cell_type": "code",
   "execution_count": 19,
   "id": "c03d5136-8d57-4bf4-ae95-c27d297be9e6",
   "metadata": {},
   "outputs": [
    {
     "data": {
      "text/plain": [
       "11.666666666666666"
      ]
     },
     "execution_count": 19,
     "metadata": {},
     "output_type": "execute_result"
    }
   ],
   "source": [
    "np.var(low_var_ar)"
   ]
  },
  {
   "cell_type": "code",
   "execution_count": 20,
   "id": "8edd261b-4a08-4e59-a25d-81c70ed53e5e",
   "metadata": {},
   "outputs": [
    {
     "data": {
      "text/plain": [
       "1773.7813108973971"
      ]
     },
     "execution_count": 20,
     "metadata": {},
     "output_type": "execute_result"
    }
   ],
   "source": [
    "np.std(high_var_ar)"
   ]
  },
  {
   "cell_type": "code",
   "execution_count": 22,
   "id": "089e6d9e-b96d-43a0-93fb-6cc92b71171f",
   "metadata": {},
   "outputs": [
    {
     "data": {
      "text/plain": [
       "3.415650255319866"
      ]
     },
     "execution_count": 22,
     "metadata": {},
     "output_type": "execute_result"
    }
   ],
   "source": [
    "np.std(low_var_ar)"
   ]
  },
  {
   "cell_type": "code",
   "execution_count": 23,
   "id": "19d8b9f9-8f75-49c0-821c-6b9dc4683bdb",
   "metadata": {},
   "outputs": [
    {
     "data": {
      "text/plain": [
       "1100.1666666666667"
      ]
     },
     "execution_count": 23,
     "metadata": {},
     "output_type": "execute_result"
    }
   ],
   "source": [
    "np.mean(high_var_ar)"
   ]
  },
  {
   "cell_type": "code",
   "execution_count": 24,
   "id": "723ac891-d27a-4d9f-8bba-909d899472a7",
   "metadata": {},
   "outputs": [
    {
     "data": {
      "text/plain": [
       "7.0"
      ]
     },
     "execution_count": 24,
     "metadata": {},
     "output_type": "execute_result"
    }
   ],
   "source": [
    "np.mean(low_var_ar)"
   ]
  },
  {
   "cell_type": "code",
   "execution_count": 26,
   "id": "8e03a1a4-b93b-4e00-8793-107ab995becf",
   "metadata": {},
   "outputs": [],
   "source": [
    "import matplotlib.pyplot as plt"
   ]
  },
  {
   "cell_type": "code",
   "execution_count": 28,
   "id": "c1d79620-dfe6-4686-a488-c7845567a71a",
   "metadata": {},
   "outputs": [
    {
     "data": {
      "image/png": "[encoded data removed]",
      "text/plain": [
       "<Figure size 640x480 with 1 Axes>"
      ]
     },
     "metadata": {},
     "output_type": "display_data"
    },
    {
     "data": {
      "image/png": "[encoded data removed]",
      "text/plain": [
       "<Figure size 640x480 with 1 Axes>"
      ]
     },
     "metadata": {},
     "output_type": "display_data"
    }
   ],
   "source": [
    "plt.hist(high_var_ar)\n",
    "plt.show()\n",
    "plt.hist(low_var_ar)\n",
    "plt.show()"
   ]
  },
  {
   "cell_type": "code",
   "execution_count": 29,
   "id": "8570e0b5-3ab3-44ce-b9ed-5ab973031ffb",
   "metadata": {},
   "outputs": [
    {
     "data": {
      "text/plain": [
       "array([[[ 1,  2,  3],\n",
       "        [ 4,  5,  6],\n",
       "        [ 7,  8,  9]],\n",
       "\n",
       "       [[10, 11, 12],\n",
       "        [13, 14, 15],\n",
       "        [16, 17, 18]]])"
      ]
     },
     "execution_count": 29,
     "metadata": {},
     "output_type": "execute_result"
    }
   ],
   "source": [
    "a1"
   ]
  },
  {
   "cell_type": "code",
   "execution_count": 30,
   "id": "445d40a8-8091-46da-b9a9-86da9dc2cc5e",
   "metadata": {},
   "outputs": [
    {
     "ename": "NameError",
     "evalue": "name 'a2' is not defined",
     "output_type": "error",
     "traceback": [
      "\u001b[1;31m---------------------------------------------------------------------------\u001b[0m",
      "\u001b[1;31mNameError\u001b[0m                                 Traceback (most recent call last)",
      "Cell \u001b[1;32mIn[30], line 1\u001b[0m\n\u001b[1;32m----> 1\u001b[0m a2\n",
      "\u001b[1;31mNameError\u001b[0m: name 'a2' is not defined"
     ]
    }
   ],
   "source": [
    "a2"
   ]
  },
  {
   "cell_type": "code",
   "execution_count": 54,
   "id": "d09f9d77-a5b9-4354-a260-1a899a19c5e0",
   "metadata": {},
   "outputs": [],
   "source": [
    "a2=np.array([[3,2,1],[6,5,4]])"
   ]
  },
  {
   "cell_type": "code",
   "execution_count": 32,
   "id": "1a1ea4a6-9daf-4a1b-a984-e77b95330cd6",
   "metadata": {},
   "outputs": [
    {
     "data": {
      "text/plain": [
       "array([[3, 2, 1],\n",
       "       [6, 5, 4]])"
      ]
     },
     "execution_count": 32,
     "metadata": {},
     "output_type": "execute_result"
    }
   ],
   "source": [
    "a2"
   ]
  },
  {
   "cell_type": "code",
   "execution_count": 33,
   "id": "e69fc74d-3b38-4ece-a33f-8069bd084d06",
   "metadata": {},
   "outputs": [
    {
     "ename": "ValueError",
     "evalue": "operands could not be broadcast together with shapes (2,3,3) (2,3) ",
     "output_type": "error",
     "traceback": [
      "\u001b[1;31m---------------------------------------------------------------------------\u001b[0m",
      "\u001b[1;31mValueError\u001b[0m                                Traceback (most recent call last)",
      "Cell \u001b[1;32mIn[33], line 1\u001b[0m\n\u001b[1;32m----> 1\u001b[0m a1\u001b[38;5;241m*\u001b[39ma2\n",
      "\u001b[1;31mValueError\u001b[0m: operands could not be broadcast together with shapes (2,3,3) (2,3) "
     ]
    }
   ],
   "source": [
    "a1*a2"
   ]
  },
  {
   "cell_type": "code",
   "execution_count": 34,
   "id": "0c3cc2d9-5a5d-48d4-97e2-7e20346c04c5",
   "metadata": {},
   "outputs": [
    {
     "ename": "ValueError",
     "evalue": "operands could not be broadcast together with shapes (2,3) (2,3,3) ",
     "output_type": "error",
     "traceback": [
      "\u001b[1;31m---------------------------------------------------------------------------\u001b[0m",
      "\u001b[1;31mValueError\u001b[0m                                Traceback (most recent call last)",
      "Cell \u001b[1;32mIn[34], line 1\u001b[0m\n\u001b[1;32m----> 1\u001b[0m a2\u001b[38;5;241m*\u001b[39ma1\n",
      "\u001b[1;31mValueError\u001b[0m: operands could not be broadcast together with shapes (2,3) (2,3,3) "
     ]
    }
   ],
   "source": [
    "a2*a1"
   ]
  },
  {
   "cell_type": "code",
   "execution_count": 50,
   "id": "7a7813e1-e8dc-46f1-a068-711a3068b4bc",
   "metadata": {},
   "outputs": [
    {
     "ename": "AttributeError",
     "evalue": "'tuple' object has no attribute 'reshape'",
     "output_type": "error",
     "traceback": [
      "\u001b[1;31m---------------------------------------------------------------------------\u001b[0m",
      "\u001b[1;31mAttributeError\u001b[0m                            Traceback (most recent call last)",
      "Cell \u001b[1;32mIn[50], line 1\u001b[0m\n\u001b[1;32m----> 1\u001b[0m a2\u001b[38;5;241m.\u001b[39mreshape(\u001b[38;5;241m2\u001b[39m,\u001b[38;5;241m3\u001b[39m,\u001b[38;5;241m1\u001b[39m)\u001b[38;5;241m.\u001b[39mshape\n",
      "\u001b[1;31mAttributeError\u001b[0m: 'tuple' object has no attribute 'reshape'"
     ]
    }
   ],
   "source": [
    "a2.reshape(2,3,1).shape"
   ]
  },
  {
   "cell_type": "code",
   "execution_count": 55,
   "id": "68ef6afa-fade-4419-8cb7-301c446c3695",
   "metadata": {},
   "outputs": [
    {
     "data": {
      "text/plain": [
       "array([[3, 2, 1],\n",
       "       [6, 5, 4]])"
      ]
     },
     "execution_count": 55,
     "metadata": {},
     "output_type": "execute_result"
    }
   ],
   "source": [
    "a2"
   ]
  },
  {
   "cell_type": "code",
   "execution_count": 56,
   "id": "96968977-9a71-48a7-9874-a27c6c00a530",
   "metadata": {},
   "outputs": [
    {
     "data": {
      "text/plain": [
       "array([[3, 6],\n",
       "       [2, 5],\n",
       "       [1, 4]])"
      ]
     },
     "execution_count": 56,
     "metadata": {},
     "output_type": "execute_result"
    }
   ],
   "source": [
    "a2.T"
   ]
  },
  {
   "cell_type": "markdown",
   "id": "38962e4f-2889-4d14-9aed-b76dc7fa5f79",
   "metadata": {},
   "source": [
    "## * DOT Product"
   ]
  },
  {
   "cell_type": "code",
   "execution_count": 59,
   "id": "90aa855d-4a7e-407e-b395-48c6cac370b2",
   "metadata": {},
   "outputs": [
    {
     "data": {
      "text/plain": [
       "(array([[5, 0, 3],\n",
       "        [3, 7, 9],\n",
       "        [3, 5, 2],\n",
       "        [4, 7, 6],\n",
       "        [8, 8, 1]]),\n",
       " array([[6, 7, 7],\n",
       "        [8, 1, 5],\n",
       "        [9, 8, 9],\n",
       "        [4, 3, 0],\n",
       "        [3, 5, 0]]))"
      ]
     },
     "execution_count": 59,
     "metadata": {},
     "output_type": "execute_result"
    }
   ],
   "source": [
    "np.random.seed(0)\n",
    "mtx1= np.random.randint(10,size=(5,3))\n",
    "mtx2= np.random.randint(10,size=(5,3))\n",
    "mtx1, mtx2"
   ]
  },
  {
   "cell_type": "code",
   "execution_count": 60,
   "id": "2155bd85-63fb-4f84-82ee-f440fe472d7a",
   "metadata": {},
   "outputs": [
    {
     "data": {
      "text/plain": [
       "((5, 3), (5, 3))"
      ]
     },
     "execution_count": 60,
     "metadata": {},
     "output_type": "execute_result"
    }
   ],
   "source": [
    "mtx1.shape, mtx2.shape"
   ]
  },
  {
   "cell_type": "code",
   "execution_count": 61,
   "id": "2f9ac1ec-c971-464b-a868-83c1b3dfede7",
   "metadata": {},
   "outputs": [
    {
     "ename": "ValueError",
     "evalue": "shapes (5,3) and (5,3) not aligned: 3 (dim 1) != 5 (dim 0)",
     "output_type": "error",
     "traceback": [
      "\u001b[1;31m---------------------------------------------------------------------------\u001b[0m",
      "\u001b[1;31mValueError\u001b[0m                                Traceback (most recent call last)",
      "Cell \u001b[1;32mIn[61], line 1\u001b[0m\n\u001b[1;32m----> 1\u001b[0m np\u001b[38;5;241m.\u001b[39mdot(mtx1,mtx2)\n",
      "\u001b[1;31mValueError\u001b[0m: shapes (5,3) and (5,3) not aligned: 3 (dim 1) != 5 (dim 0)"
     ]
    }
   ],
   "source": [
    "np.dot(mtx1,mtx2)"
   ]
  },
  {
   "cell_type": "code",
   "execution_count": 64,
   "id": "c6dffb7e-9d26-4e4b-8050-9f37dc0e441d",
   "metadata": {},
   "outputs": [
    {
     "data": {
      "text/plain": [
       "array([[6, 8, 9, 4, 3],\n",
       "       [7, 1, 8, 3, 5],\n",
       "       [7, 5, 9, 0, 0]])"
      ]
     },
     "execution_count": 64,
     "metadata": {},
     "output_type": "execute_result"
    }
   ],
   "source": [
    "mtx2T=mtx2.T\n",
    "mtx2T"
   ]
  },
  {
   "cell_type": "code",
   "execution_count": 63,
   "id": "2be7e953-8bbd-409c-9721-c7699c82c170",
   "metadata": {},
   "outputs": [
    {
     "data": {
      "text/plain": [
       "array([[ 51,  55,  72,  20,  15],\n",
       "       [130,  76, 164,  33,  44],\n",
       "       [ 67,  39,  85,  27,  34],\n",
       "       [115,  69, 146,  37,  47],\n",
       "       [111,  77, 145,  56,  64]])"
      ]
     },
     "execution_count": 63,
     "metadata": {},
     "output_type": "execute_result"
    }
   ],
   "source": [
    "mtx3=np.dot(mtx1,mtx2T)\n",
    "mtx3"
   ]
  },
  {
   "cell_type": "markdown",
   "id": "143acb9b-e008-4653-80dd-e7b6797cf4ee",
   "metadata": {},
   "source": [
    "## Importing image as numPy array"
   ]
  },
  {
   "cell_type": "code",
   "execution_count": 3,
   "id": "d4949ad5-5dc0-4ec6-8fa8-1a5f1c1dad8b",
   "metadata": {},
   "outputs": [],
   "source": [
    "from matplotlib.image import imread"
   ]
  },
  {
   "cell_type": "markdown",
   "id": "21da9739-ebac-4506-894c-ae944844ffb2",
   "metadata": {},
   "source": [
    "<img src=\"./gun.png\">"
   ]
  },
  {
   "cell_type": "code",
   "execution_count": 4,
   "id": "366f1794-216b-4f11-833d-77a4773c46e4",
   "metadata": {},
   "outputs": [],
   "source": [
    "my_img=imread(\"./gun.png\")"
   ]
  },
  {
   "cell_type": "code",
   "execution_count": 5,
   "id": "879f926c-858b-45ae-8da2-3b9909e52038",
   "metadata": {},
   "outputs": [
    {
     "data": {
      "text/plain": [
       "numpy.ndarray"
      ]
     },
     "execution_count": 5,
     "metadata": {},
     "output_type": "execute_result"
    }
   ],
   "source": [
    "type(my_img)"
   ]
  },
  {
   "cell_type": "code",
   "execution_count": 6,
   "id": "dc07e362-d78d-43d2-84f7-abf8c5a4e0d8",
   "metadata": {},
   "outputs": [
    {
     "data": {
      "text/plain": [
       "array([[[0.09019608, 0.09019608, 0.09019608, 1.        ],\n",
       "        [0.09019608, 0.09019608, 0.09019608, 1.        ],\n",
       "        [0.09019608, 0.09019608, 0.09019608, 1.        ],\n",
       "        ...,\n",
       "        [0.09411765, 0.09411765, 0.09019608, 1.        ],\n",
       "        [0.09411765, 0.09411765, 0.09019608, 1.        ],\n",
       "        [0.09019608, 0.09411765, 0.09019608, 1.        ]],\n",
       "\n",
       "       [[0.09019608, 0.09019608, 0.08627451, 1.        ],\n",
       "        [0.09019608, 0.09019608, 0.08627451, 1.        ],\n",
       "        [0.09019608, 0.09019608, 0.08627451, 1.        ],\n",
       "        ...,\n",
       "        [0.09019608, 0.09019608, 0.09019608, 1.        ],\n",
       "        [0.09019608, 0.09019608, 0.09019608, 1.        ],\n",
       "        [0.09019608, 0.09019608, 0.09019608, 1.        ]],\n",
       "\n",
       "       [[0.09019608, 0.09019608, 0.08627451, 1.        ],\n",
       "        [0.09019608, 0.09019608, 0.08627451, 1.        ],\n",
       "        [0.09019608, 0.09019608, 0.08627451, 1.        ],\n",
       "        ...,\n",
       "        [0.09019608, 0.09019608, 0.09019608, 1.        ],\n",
       "        [0.09019608, 0.09019608, 0.09019608, 1.        ],\n",
       "        [0.09019608, 0.09019608, 0.09019608, 1.        ]],\n",
       "\n",
       "       ...,\n",
       "\n",
       "       [[0.07843138, 0.07843138, 0.07843138, 1.        ],\n",
       "        [0.07843138, 0.07843138, 0.07843138, 1.        ],\n",
       "        [0.07843138, 0.07843138, 0.07843138, 1.        ],\n",
       "        ...,\n",
       "        [0.5764706 , 0.5764706 , 0.5764706 , 1.        ],\n",
       "        [0.6       , 0.6       , 0.6       , 1.        ],\n",
       "        [0.08627451, 0.09019608, 0.08627451, 1.        ]],\n",
       "\n",
       "       [[0.07843138, 0.07843138, 0.07843138, 1.        ],\n",
       "        [0.07843138, 0.07843138, 0.07843138, 1.        ],\n",
       "        [0.07843138, 0.07843138, 0.07843138, 1.        ],\n",
       "        ...,\n",
       "        [0.13725491, 0.13725491, 0.13725491, 1.        ],\n",
       "        [0.13725491, 0.13725491, 0.13725491, 1.        ],\n",
       "        [0.07843138, 0.08235294, 0.07843138, 1.        ]],\n",
       "\n",
       "       [[0.07843138, 0.07843138, 0.07843138, 1.        ],\n",
       "        [0.07843138, 0.07843138, 0.07843138, 1.        ],\n",
       "        [0.07843138, 0.07843138, 0.07843138, 1.        ],\n",
       "        ...,\n",
       "        [0.07843138, 0.08235294, 0.07843138, 1.        ],\n",
       "        [0.07843138, 0.08235294, 0.07843138, 1.        ],\n",
       "        [0.07843138, 0.08235294, 0.07843138, 1.        ]]], dtype=float32)"
      ]
     },
     "execution_count": 6,
     "metadata": {},
     "output_type": "execute_result"
    }
   ],
   "source": [
    "my_img"
   ]
  },
  {
   "cell_type": "code",
   "execution_count": 8,
   "id": "6e618be4-2b1c-4dc6-85f4-89b7bd271aa7",
   "metadata": {},
   "outputs": [
    {
     "data": {
      "text/plain": [
       "(8294400, (1080, 1920, 4), 3)"
      ]
     },
     "execution_count": 8,
     "metadata": {},
     "output_type": "execute_result"
    }
   ],
   "source": [
    "my_img.size, my_img.shape, my_img.ndim"
   ]
  },
  {
   "cell_type": "code",
   "execution_count": null,
   "id": "c9602c4e-c258-4e45-b598-5b0262f7824d",
   "metadata": {},
   "outputs": [],
   "source": []
  }
 ],
 "metadata": {
  "kernelspec": {
   "display_name": "Python 3 (ipykernel)",
   "language": "python",
   "name": "python3"
  },
  "language_info": {
   "codemirror_mode": {
    "name": "ipython",
    "version": 3
   },
   "file_extension": ".py",
   "mimetype": "text/x-python",
   "name": "python",
   "nbconvert_exporter": "python",
   "pygments_lexer": "ipython3",
   "version": "3.12.3"
  }
 },
 "nbformat": 4,
 "nbformat_minor": 5
}
